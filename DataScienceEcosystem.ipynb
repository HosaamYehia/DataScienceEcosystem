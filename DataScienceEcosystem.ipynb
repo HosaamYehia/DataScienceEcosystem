{
 "cells": [
  {
   "cell_type": "markdown",
   "id": "84c3dc3d-5c1f-40db-a78b-acbe7b06f86d",
   "metadata": {
    "tags": []
   },
   "source": [
    "# H1: Data Science Tools and Ecosystem\n"
   ]
  },
  {
   "cell_type": "markdown",
   "id": "acd05fe5-b143-404d-9b0a-e7b7a68741c4",
   "metadata": {},
   "source": [
    "# In this notebook, Data Science Tools and Ecosystem are summarized."
   ]
  },
  {
   "cell_type": "markdown",
   "id": "a9a64864-89d0-4e56-ab04-cf4ff7d28a8d",
   "metadata": {},
   "source": [
    "# __Objectives:__\n",
    "- Discover most Open Source tools for Data Scince\n",
    "- Learn introduction about Jupyter and R languages \n",
    "- Learn How to Use Github to publish and manage projects \n",
    "- Discover more about Data Science Libraraies"
   ]
  },
  {
   "cell_type": "markdown",
   "id": "b1c7e5b7-f473-4271-ae42-9377cae902b4",
   "metadata": {},
   "source": [
    "# Some of the popular languages that Data Scientists use are:\n",
    "1. Paython \n",
    "2. R \n",
    "3. SQL \n",
    "4. SCALA\n",
    "5. JULIA"
   ]
  },
  {
   "cell_type": "markdown",
   "id": "6544a865-707a-4adb-af27-3a2331bb8fd4",
   "metadata": {
    "tags": []
   },
   "source": [
    "# Some of the commonly used libraries used by Data Scientists include:\n",
    "1. NumPY\n",
    "2. Tensor Flow\n",
    "3. MatPlotLip\n",
    "4. SciPy\n",
    "4. Pandas\n"
   ]
  },
  {
   "cell_type": "markdown",
   "id": "5db377f6-9a48-4b92-9ede-30d25c79db8b",
   "metadata": {
    "tags": []
   },
   "source": [
    "|Data Science Tools|\n",
    "--------------------\n",
    "|RStudio|\n",
    "|VS Code|\n",
    "|Jupiter Lab|\n",
    "|Apache Spark|\n"
   ]
  },
  {
   "cell_type": "markdown",
   "id": "f21c0987-8f7a-4d51-a600-f2456b3e0c67",
   "metadata": {
    "tags": []
   },
   "source": [
    "### H3: Below are a few examples of evaluating arithmetic expressions in Python"
   ]
  },
  {
   "cell_type": "code",
   "execution_count": 1,
   "id": "d654736e-f8b2-4702-b835-35db2f0815a3",
   "metadata": {
    "tags": []
   },
   "outputs": [
    {
     "name": "stdout",
     "output_type": "stream",
     "text": [
      "17\n"
     ]
    }
   ],
   "source": [
    "# This a simple arithmetic expression to mutiply then add integers\n",
    "print ((3*4)+5) "
   ]
  },
  {
   "cell_type": "code",
   "execution_count": 2,
   "id": "49ad71c5-1945-4bf2-9568-894ad192e4ed",
   "metadata": {
    "tags": []
   },
   "outputs": [
    {
     "name": "stdout",
     "output_type": "stream",
     "text": [
      "200 Minutes = \n",
      "3.3333333333333335\n",
      "hours\n"
     ]
    }
   ],
   "source": [
    "# This will convert 200 minutes to hours by diving by 60\n",
    "print(\"200 Minutes = \")\n",
    "print(200/60)\n",
    "print(\"hours\")\n"
   ]
  },
  {
   "cell_type": "markdown",
   "id": "0fdeaab0-43f6-4b93-b6df-27089e88d734",
   "metadata": {
    "tags": []
   },
   "source": [
    "## H2: Auther \n",
    "Hossam Yehia\n"
   ]
  },
  {
   "cell_type": "code",
   "execution_count": null,
   "id": "e644d346-4ec4-4543-88df-a10abfcda673",
   "metadata": {},
   "outputs": [],
   "source": []
  }
 ],
 "metadata": {
  "kernelspec": {
   "display_name": "Python 3 (ipykernel)",
   "language": "python",
   "name": "python3"
  },
  "language_info": {
   "codemirror_mode": {
    "name": "ipython",
    "version": 3
   },
   "file_extension": ".py",
   "mimetype": "text/x-python",
   "name": "python",
   "nbconvert_exporter": "python",
   "pygments_lexer": "ipython3",
   "version": "3.11.5"
  }
 },
 "nbformat": 4,
 "nbformat_minor": 5
}
